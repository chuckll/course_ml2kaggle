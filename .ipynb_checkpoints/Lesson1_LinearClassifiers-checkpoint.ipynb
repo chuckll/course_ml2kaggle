{
 "cells": [
  {
   "cell_type": "markdown",
   "metadata": {},
   "source": [
    "## 线性分类器"
   ]
  },
  {
   "cell_type": "code",
   "execution_count": 28,
   "metadata": {},
   "outputs": [
    {
     "data": {
      "text/plain": [
       "(683, 11)"
      ]
     },
     "execution_count": 28,
     "metadata": {},
     "output_type": "execute_result"
    }
   ],
   "source": [
    "import pandas as pd\n",
    "import numpy as np\n",
    "\n",
    "#创建特征列表\n",
    "column_names = ['Sample code number', 'Clump Thickness', 'Uniformity of Cell Size', 'Uniformity of Cell Shape', 'Marginal Adhesion', 'Single Epithelial Cell Size', 'Bare Nuclei', 'Bland Chromatin', 'Normal Nucleoli', 'Mitoses', 'Class']\n",
    "\n",
    "#使用pandas.rea_csv函数从互联网读取指定数据，使用names参数指定标题的名称。\n",
    "data = pd.read_csv('https://archive.ics.uci.edu/ml/machine-learning-databases/breast-cancer-wisconsin/breast-cancer-wisconsin.data', names = column_names)\n",
    "\n",
    "#将？替换为标准缺失值表示\n",
    "data = data.replace(to_replace='?',value=np.nan)\n",
    "#丢弃带有缺失值的数据（只要有一个维度有缺失）\n",
    "data = data.dropna(how = 'any')\n",
    "#输出data的数据量和维度\n",
    "data.shape"
   ]
  },
  {
   "cell_type": "code",
   "execution_count": 29,
   "metadata": {},
   "outputs": [
    {
     "data": {
      "text/plain": [
       "2    344\n",
       "4    168\n",
       "Name: Class, dtype: int64"
      ]
     },
     "execution_count": 29,
     "metadata": {},
     "output_type": "execute_result"
    }
   ],
   "source": [
    "#train_test_split模块用于分割数据\n",
    "from sklearn.model_selection import train_test_split\n",
    "#随机采样25%的数据用于测试，剩下的75%用于构建训练集合\n",
    "X_train,X_test,y_train,y_test = train_test_split(data[column_names[1:10]],data[column_names[10]],test_size=0.25,random_state=33)  #随机种子\n",
    "\n",
    "#查验训练样本的数量和类别分布\n",
    "y_train.value_counts()"
   ]
  },
  {
   "cell_type": "code",
   "execution_count": 11,
   "metadata": {},
   "outputs": [
    {
     "data": {
      "text/plain": [
       "2    100\n",
       "4     71\n",
       "Name: Class, dtype: int64"
      ]
     },
     "execution_count": 11,
     "metadata": {},
     "output_type": "execute_result"
    }
   ],
   "source": [
    "#查验测试样本的数量和类别分布\n",
    "y_test.value_counts()"
   ]
  },
  {
   "cell_type": "code",
   "execution_count": 25,
   "metadata": {
    "scrolled": true
   },
   "outputs": [],
   "source": [
    "from sklearn.preprocessing import StandardScaler\n",
    "\n",
    "from sklearn.linear_model import LogisticRegression\n",
    "from sklearn.linear_model import SGDClassifier\n",
    "\n",
    "#标准化数据，保证每个维度的特征数据方差为1，均值为0。使得预测结果不会呗某些维度过大的特征值而主导\n",
    "ss= StandardScaler()\n",
    "X_train = ss.fit_transform(X_train)\n",
    "X_test = ss.transform(X_test)\n",
    "\n",
    "#初始化LogisticRegression与SGDClassifier\n",
    "lr=LogisticRegression()\n",
    "sgdc=SGDClassifier(max_iter=100,tol=None)\n",
    "#调用LogisticRegression中的fit函数来训练模型参数\n",
    "lr.fit(X_train,y_train)\n",
    "#使用训练好的模型lr对X_test进行预测，结果存储在变量lr_y_predict中\n",
    "lr_y_predict = lr.predict(X_test)\n",
    "#调用SGDClassifier中的fit函数来训练模型参数\n",
    "sgdc.fit(X_train,y_train)\n",
    "##使用训练好的模型sgdc对X_test进行预测，结果存储在变量sgdc_y_predict中\n",
    "sgdc_y_predic = sgdc.predict(X_test)\n",
    "\n"
   ]
  },
  {
   "cell_type": "code",
   "execution_count": 14,
   "metadata": {},
   "outputs": [
    {
     "data": {
      "text/plain": [
       "array([2, 2, 4, 2, 2, 2, 2, 2, 2, 2, 2, 2, 2, 2, 2, 2, 2, 4, 4, 2, 2, 4,\n",
       "       4, 2, 4, 2, 2, 2, 2, 2, 2, 2, 2, 4, 2, 2, 2, 4, 4, 4, 2, 2, 2, 2,\n",
       "       2, 2, 2, 2, 2, 2, 2, 2, 2, 2, 4, 2, 2, 2, 2, 2, 4, 4, 2, 2, 2, 2,\n",
       "       2, 2, 2, 2, 4, 2, 2, 2, 2, 2, 2, 4, 2, 2, 2, 2, 2, 2, 2, 2, 2, 2,\n",
       "       2, 2, 4, 2, 2, 2, 2, 2, 4, 4, 2, 2, 2, 4, 2, 2, 2, 2, 2, 2, 2, 2,\n",
       "       4, 2, 2, 2, 2, 2, 2, 4, 2, 2, 2, 2, 2, 2, 2, 2, 2, 2, 2, 2, 4, 2,\n",
       "       2, 4, 2, 2, 2, 2, 2, 2, 2, 4, 2, 2, 2, 2, 2, 2, 2, 4, 2, 2, 2, 2,\n",
       "       2, 4, 2, 2, 2, 2, 4, 2, 4, 2, 2, 2, 2, 2, 2, 2, 4], dtype=int64)"
      ]
     },
     "execution_count": 14,
     "metadata": {},
     "output_type": "execute_result"
    }
   ],
   "source": [
    "sgdc_y_predic"
   ]
  },
  {
   "cell_type": "code",
   "execution_count": 26,
   "metadata": {
    "scrolled": true
   },
   "outputs": [
    {
     "name": "stdout",
     "output_type": "stream",
     "text": [
      "accuracy of lr Classifier: 0.9883040935672515\n",
      "             precision    recall  f1-score   support\n",
      "\n",
      "     Bengin       0.99      0.99      0.99       100\n",
      "  Malignant       0.99      0.99      0.99        71\n",
      "\n",
      "avg / total       0.99      0.99      0.99       171\n",
      "\n",
      "accuracy of SGD Classifier 0.9824561403508771\n",
      "             precision    recall  f1-score   support\n",
      "\n",
      "     Bengin       0.99      0.98      0.98       100\n",
      "  Malignant       0.97      0.99      0.98        71\n",
      "\n",
      "avg / total       0.98      0.98      0.98       171\n",
      "\n"
     ]
    }
   ],
   "source": [
    "from sklearn.metrics import classification_report\n",
    "\n",
    "#使用logistic回归模型自带的评分函数score获得模型在测试集上的准确性结果\n",
    "print('accuracy of lr Classifier:',lr.score(X_test,y_test))\n",
    "#利用classification_report模块获得逻辑回归的其他三个指标的结果\n",
    "print(classification_report(y_test,lr_y_predict,target_names = ['Bengin','Malignant']))\n",
    "\n",
    "#使用随机梯度下降模型自带的评分函数score获得模型在测试集上的准确性结果\n",
    "print('accuracy of SGD Classifier',sgdc.score(X_test,y_test))\n",
    "#利用classification_report模块获得SGDClassifier的其他三个指标的结果\n",
    "print(classification_report(y_test,sgdc_y_predic,target_names = ['Bengin','Malignant']))\n"
   ]
  },
  {
   "cell_type": "code",
   "execution_count": null,
   "metadata": {},
   "outputs": [],
   "source": [
    "#一般而言，对于训练数据规模在10万量级以上的数据，考虑到时间的耗用，更加推荐使用随机梯度算法对模型参数进行估计。"
   ]
  }
 ],
 "metadata": {
  "kernelspec": {
   "display_name": "Python 3",
   "language": "python",
   "name": "python3"
  },
  "language_info": {
   "codemirror_mode": {
    "name": "ipython",
    "version": 3
   },
   "file_extension": ".py",
   "mimetype": "text/x-python",
   "name": "python",
   "nbconvert_exporter": "python",
   "pygments_lexer": "ipython3",
   "version": "3.6.4"
  }
 },
 "nbformat": 4,
 "nbformat_minor": 2
}
